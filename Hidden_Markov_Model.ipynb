{
  "nbformat": 4,
  "nbformat_minor": 0,
  "metadata": {
    "colab": {
      "name": "Hidden Markov Model.ipynb",
      "provenance": [],
      "collapsed_sections": []
    },
    "kernelspec": {
      "name": "python3",
      "display_name": "Python 3"
    },
    "language_info": {
      "name": "python"
    }
  },
  "cells": [
    {
      "cell_type": "markdown",
      "metadata": {
        "id": "vtmPfTm-uHwH"
      },
      "source": [
        "## The Puerto Princesa ship"
      ]
    },
    {
      "cell_type": "markdown",
      "metadata": {
        "id": "jzyrIpaBuHwH"
      },
      "source": [
        "At midnight on a fall day in the Philippines, a ship leaves Puerto Princesa City's seaport to Macao, China. After one or two hours, the boat loses its GPS connection because of a technical issue. Captain keeps navigating the ship to its destination, using the stars and four old radio towers, which you can see on the map. Each antenna could measure the ship's coordinates (X, Y) and send them to its receiver. There are five records of towers signals at five different times, available for you in the records.json file. Also, the boat's actual coordinates are available in the real_coordinates.json file. The exact coordinates are ONLY FOR EVALUATION PURPOSES, and you CAN NOT use them as input data. The five dots on the map below are actual coordinates of the ship, at each time step where the records from antennas were received. Also, the map is decorative and is not part of the data."
      ]
    },
    {
      "cell_type": "markdown",
      "metadata": {
        "id": "kU5fNzPCuHwH"
      },
      "source": [
        "![Figure3-1](./Images/map.png)"
      ]
    },
    {
      "cell_type": "markdown",
      "metadata": {
        "id": "_3U5v1QmuHwH"
      },
      "source": [
        "Each tower has a noise that is coming from a gaussian distribution, meaning that every (X, Y) pair that is received from an antenna is actually derived from:\n",
        "\n",
        "X = sample_from_normal_distribution(mean = X_real, std = antenna's std)\n",
        "Y = sample_from_normal_distribution(mean = Y_real, std = antenna's std)\n",
        "\n",
        "Information of radio towers (coordinate and noise standard deviation) is available in the towers_info.json file.\n",
        "\n",
        "The ship's movement between those five different time steps could be mathematically modeled as follows:\n",
        "At each time step, the ship moves D units to the north and F units to either east or west (half of the times west, and half of the times east). D and F are both samples from exponential distributions with a scale of Y_STEP and X_STEP, respectively. Those parameters are available in the moving_model.json file."
      ]
    },
    {
      "cell_type": "markdown",
      "metadata": {
        "id": "QoqA2I_xuHwH"
      },
      "source": [
        "### Hidden Markov Model"
      ]
    },
    {
      "cell_type": "markdown",
      "metadata": {
        "id": "ME4bLl4_uHwH"
      },
      "source": [
        "At this point, you can build a simple HMM and estimate the ship's coordinates using the conditional probabilities that you have. For each time step, calculate the ship's coordinates at that time step and previous time steps, using the tower records received up to that time. In simpler words, calculate:<br>\n",
        "\n",
        "P(coor_0 | records_0)<br>\n",
        "P(coor_1 | records_0, records_1)<br>\n",
        "...<br>\n",
        "P(coor_4 | records_0, records_1, records_2, records_3, records_4)<br>\n"
      ]
    },
    {
      "cell_type": "markdown",
      "metadata": {
        "id": "SOiRb7svuHwI"
      },
      "source": [
        "The actual coordinates of the ship in the first time step (coor_0) is coming from a 2-dimensional guassian distribution with the mean of Puerto Princesa city's coordinates and covarianve matrix of INIT_COV (scalar) times the identity matrix. INIT_COV and coordinates of Puerto Princesa city is availabel in moving_model.json file."
      ]
    },
    {
      "cell_type": "markdown",
      "metadata": {
        "id": "3AjE_JbMuHwI"
      },
      "source": [
        "## Libraries"
      ]
    },
    {
      "cell_type": "code",
      "execution_count": null,
      "metadata": {
        "id": "L6zr-L8luHwI"
      },
      "outputs": [],
      "source": [
        "import numpy as np\n",
        "import pandas as pd\n",
        "from matplotlib import pyplot as plt\n",
        "import json\n",
        "\n",
        "from scipy.stats import norm, expon\n",
        "import scipy\n",
        "import math"
      ]
    },
    {
      "cell_type": "markdown",
      "metadata": {
        "id": "oJRXKJryuHwI"
      },
      "source": [
        "## Data"
      ]
    },
    {
      "cell_type": "code",
      "execution_count": null,
      "metadata": {
        "id": "0vJLxjeUuHwI",
        "outputId": "d835ec70-a06d-4ec9-eba2-ea865c9b0020"
      },
      "outputs": [
        {
          "data": {
            "text/html": [
              "<div>\n",
              "<style scoped>\n",
              "    .dataframe tbody tr th:only-of-type {\n",
              "        vertical-align: middle;\n",
              "    }\n",
              "\n",
              "    .dataframe tbody tr th {\n",
              "        vertical-align: top;\n",
              "    }\n",
              "\n",
              "    .dataframe thead th {\n",
              "        text-align: right;\n",
              "    }\n",
              "</style>\n",
              "<table border=\"1\" class=\"dataframe\">\n",
              "  <thead>\n",
              "    <tr style=\"text-align: right;\">\n",
              "      <th></th>\n",
              "      <th>X</th>\n",
              "      <th>Y</th>\n",
              "    </tr>\n",
              "  </thead>\n",
              "  <tbody>\n",
              "    <tr>\n",
              "      <th>0</th>\n",
              "      <td>1087.233417</td>\n",
              "      <td>-57.165368</td>\n",
              "    </tr>\n",
              "    <tr>\n",
              "      <th>1</th>\n",
              "      <td>1044.936241</td>\n",
              "      <td>72.343990</td>\n",
              "    </tr>\n",
              "    <tr>\n",
              "      <th>2</th>\n",
              "      <td>967.051182</td>\n",
              "      <td>392.826826</td>\n",
              "    </tr>\n",
              "    <tr>\n",
              "      <th>3</th>\n",
              "      <td>314.440277</td>\n",
              "      <td>1219.678719</td>\n",
              "    </tr>\n",
              "    <tr>\n",
              "      <th>4</th>\n",
              "      <td>590.424895</td>\n",
              "      <td>1413.279887</td>\n",
              "    </tr>\n",
              "  </tbody>\n",
              "</table>\n",
              "</div>"
            ],
            "text/plain": [
              "             X            Y\n",
              "0  1087.233417   -57.165368\n",
              "1  1044.936241    72.343990\n",
              "2   967.051182   392.826826\n",
              "3   314.440277  1219.678719\n",
              "4   590.424895  1413.279887"
            ]
          },
          "execution_count": 2,
          "metadata": {},
          "output_type": "execute_result"
        }
      ],
      "source": [
        "real_coordinates = json.load(open('./inputs/real_coordinates.json'))\n",
        "pd.DataFrame(real_coordinates)"
      ]
    },
    {
      "cell_type": "code",
      "execution_count": null,
      "metadata": {
        "id": "keXXlcgluHwI",
        "outputId": "0b7e1011-197a-430d-b0bb-0080e60df30d"
      },
      "outputs": [
        {
          "data": {
            "text/html": [
              "<div>\n",
              "<style scoped>\n",
              "    .dataframe tbody tr th:only-of-type {\n",
              "        vertical-align: middle;\n",
              "    }\n",
              "\n",
              "    .dataframe tbody tr th {\n",
              "        vertical-align: top;\n",
              "    }\n",
              "\n",
              "    .dataframe thead th {\n",
              "        text-align: right;\n",
              "    }\n",
              "</style>\n",
              "<table border=\"1\" class=\"dataframe\">\n",
              "  <thead>\n",
              "    <tr style=\"text-align: right;\">\n",
              "      <th></th>\n",
              "      <th>1</th>\n",
              "      <th>2</th>\n",
              "      <th>3</th>\n",
              "      <th>4</th>\n",
              "    </tr>\n",
              "  </thead>\n",
              "  <tbody>\n",
              "    <tr>\n",
              "      <th>x</th>\n",
              "      <td>1405</td>\n",
              "      <td>10</td>\n",
              "      <td>210</td>\n",
              "      <td>630</td>\n",
              "    </tr>\n",
              "    <tr>\n",
              "      <th>y</th>\n",
              "      <td>600</td>\n",
              "      <td>880</td>\n",
              "      <td>1890</td>\n",
              "      <td>2090</td>\n",
              "    </tr>\n",
              "    <tr>\n",
              "      <th>std</th>\n",
              "      <td>60</td>\n",
              "      <td>110</td>\n",
              "      <td>90</td>\n",
              "      <td>80</td>\n",
              "    </tr>\n",
              "  </tbody>\n",
              "</table>\n",
              "</div>"
            ],
            "text/plain": [
              "        1    2     3     4\n",
              "x    1405   10   210   630\n",
              "y     600  880  1890  2090\n",
              "std    60  110    90    80"
            ]
          },
          "execution_count": 3,
          "metadata": {},
          "output_type": "execute_result"
        }
      ],
      "source": [
        "towers_info = json.load(open('./inputs/towers_info.json'))\n",
        "pd.DataFrame(towers_info)"
      ]
    },
    {
      "cell_type": "code",
      "execution_count": null,
      "metadata": {
        "id": "1Rn_XYMMuHwJ",
        "outputId": "4bfe3be0-2658-4bab-98b4-f45be416226d"
      },
      "outputs": [
        {
          "data": {
            "text/plain": [
              "{'X_STEP': 300,\n",
              " 'Y_STEP': 600,\n",
              " 'INIT_COV': 200,\n",
              " 'Peurto_coordinates': [1105, -50]}"
            ]
          },
          "execution_count": 4,
          "metadata": {},
          "output_type": "execute_result"
        }
      ],
      "source": [
        "moving_model = json.load(open('./inputs/moving_model.json'))\n",
        "moving_model"
      ]
    },
    {
      "cell_type": "code",
      "execution_count": null,
      "metadata": {
        "id": "uhGF_ygquHwJ",
        "outputId": "abc9cd29-1d1e-4ed1-8f15-0bddcf8c86a8"
      },
      "outputs": [
        {
          "data": {
            "text/html": [
              "<div>\n",
              "<style scoped>\n",
              "    .dataframe tbody tr th:only-of-type {\n",
              "        vertical-align: middle;\n",
              "    }\n",
              "\n",
              "    .dataframe tbody tr th {\n",
              "        vertical-align: top;\n",
              "    }\n",
              "\n",
              "    .dataframe thead th {\n",
              "        text-align: right;\n",
              "    }\n",
              "</style>\n",
              "<table border=\"1\" class=\"dataframe\">\n",
              "  <thead>\n",
              "    <tr style=\"text-align: right;\">\n",
              "      <th></th>\n",
              "      <th>Tower1</th>\n",
              "      <th>Tower2</th>\n",
              "      <th>Tower3</th>\n",
              "      <th>Tower4</th>\n",
              "    </tr>\n",
              "  </thead>\n",
              "  <tbody>\n",
              "    <tr>\n",
              "      <th>0</th>\n",
              "      <td>[994, -36]</td>\n",
              "      <td>[873, -28]</td>\n",
              "      <td>[958, 70]</td>\n",
              "      <td>[1077, -128]</td>\n",
              "    </tr>\n",
              "    <tr>\n",
              "      <th>1</th>\n",
              "      <td>[1053, 63]</td>\n",
              "      <td>[926, 26]</td>\n",
              "      <td>[961, 110]</td>\n",
              "      <td>[905, 82]</td>\n",
              "    </tr>\n",
              "    <tr>\n",
              "      <th>2</th>\n",
              "      <td>[956, 389]</td>\n",
              "      <td>[1106, 499]</td>\n",
              "      <td>[1005, 397]</td>\n",
              "      <td>[901, 326]</td>\n",
              "    </tr>\n",
              "    <tr>\n",
              "      <th>3</th>\n",
              "      <td>[331, 1227]</td>\n",
              "      <td>[377, 1232]</td>\n",
              "      <td>[270, 1282]</td>\n",
              "      <td>[232, 1051]</td>\n",
              "    </tr>\n",
              "    <tr>\n",
              "      <th>4</th>\n",
              "      <td>[520, 1376]</td>\n",
              "      <td>[577, 1446]</td>\n",
              "      <td>[397, 1456]</td>\n",
              "      <td>[648, 1364]</td>\n",
              "    </tr>\n",
              "  </tbody>\n",
              "</table>\n",
              "</div>"
            ],
            "text/plain": [
              "        Tower1       Tower2       Tower3        Tower4\n",
              "0   [994, -36]   [873, -28]    [958, 70]  [1077, -128]\n",
              "1   [1053, 63]    [926, 26]   [961, 110]     [905, 82]\n",
              "2   [956, 389]  [1106, 499]  [1005, 397]    [901, 326]\n",
              "3  [331, 1227]  [377, 1232]  [270, 1282]   [232, 1051]\n",
              "4  [520, 1376]  [577, 1446]  [397, 1456]   [648, 1364]"
            ]
          },
          "execution_count": 5,
          "metadata": {},
          "output_type": "execute_result"
        }
      ],
      "source": [
        "records = json.load(open('./inputs/records.json'))\n",
        "pd.DataFrame(records)"
      ]
    },
    {
      "cell_type": "markdown",
      "metadata": {
        "id": "e3CJsp8CuHwJ"
      },
      "source": [
        "## Functions"
      ]
    },
    {
      "cell_type": "code",
      "execution_count": null,
      "metadata": {
        "id": "hxDoPJJouHwJ"
      },
      "outputs": [],
      "source": [
        "tower_records = [(records.get('Tower1')[i],\n",
        "                  records.get('Tower2')[i],\n",
        "                  records.get('Tower3')[i],\n",
        "                  records.get('Tower4')[i]) for i in range(5)]"
      ]
    },
    {
      "cell_type": "code",
      "execution_count": null,
      "metadata": {
        "id": "bLjW0NEXuHwJ",
        "outputId": "20f9bf28-0152-4fc1-c0ba-2b7449a3bbaa"
      },
      "outputs": [
        {
          "data": {
            "text/plain": [
              "[([994, -36], [873, -28], [958, 70], [1077, -128]),\n",
              " ([1053, 63], [926, 26], [961, 110], [905, 82]),\n",
              " ([956, 389], [1106, 499], [1005, 397], [901, 326]),\n",
              " ([331, 1227], [377, 1232], [270, 1282], [232, 1051]),\n",
              " ([520, 1376], [577, 1446], [397, 1456], [648, 1364])]"
            ]
          },
          "execution_count": 7,
          "metadata": {},
          "output_type": "execute_result"
        }
      ],
      "source": [
        "tower_records"
      ]
    },
    {
      "cell_type": "code",
      "execution_count": null,
      "metadata": {
        "collectable": true,
        "id": "ORNiSYenuHwK"
      },
      "outputs": [],
      "source": [
        "def get_mean_towers_coor(time_step: int, tower_records: list):\n",
        "    # The average of all four towers measurements at a given time step\n",
        "    x = np.average([tower_coor[0] for tower_coor in tower_records[time_step]])\n",
        "    y = np.average([tower_coor[1] for tower_coor in tower_records[time_step]])\n",
        "    return x, y\n",
        "\n",
        "def P_coor0(coor0):\n",
        "    # Distribuiton of initial coordinates (time step 0)\n",
        "    x0, y0 = coor0\n",
        "    return scipy.stats.multivariate_normal.pdf([x0, y0], mean=moving_model.get('Peurto_coordinates'), cov=moving_model.get('INIT_COV')) \n",
        "\n",
        "# filling these three functions with apropriate codes: (2 points)\n",
        "\n",
        "def P_coor_given_prevCoor(coor, prev_coor):\n",
        "    # Probability of coordinates at time step i, given the coordinates of time step i-1\n",
        "    x_dev = moving_model['X_STEP']\n",
        "    y_dev = moving_model['Y_STEP']\n",
        "    delta_X = abs(coor[0] - prev_coor[0])\n",
        "    delta_Y = abs(coor[1] - prev_coor[1])\n",
        "    px = (1/x_dev) * math.exp(-1 * delta_X / x_dev) \n",
        "    py = (1/y_dev) * math.exp(-1 * delta_Y / y_dev)\n",
        "    return px,py\n",
        "    \n",
        "def P_towerCoor_given_coor(tower_coor, tower_std, coor):\n",
        "    # Probability of a tower measurement, given the coordinates of the ship\n",
        "    # X = sample_from_normal_distribution(mean = X_real, std = antenna's std) \n",
        "    # Y = sample_from_normal_distribution(mean = Y_real, std = antenna's std)\n",
        "    x_std = tower_std\n",
        "    y_std = tower_std\n",
        "    delta_X = abs(coor[0] - tower_coor[0])\n",
        "    delta_Y = abs(coor[1] - tower_coor[1])\n",
        "    p_x = 1/((2*math.pi)**0.5*x_std) * math.exp(- (delta_X**2)/(2*(x_std**2)))\n",
        "    p_y = 1/((2*math.pi)**0.5*y_std) * math.exp(- (delta_Y**2)/(2*(y_std**2)))\n",
        "    return p_x,p_y \n",
        "    \n",
        "def P_record_given_coor(rec, coor, towers_info):\n",
        "    # All four measurements of all four towers at time step i, is called the record of thime step i.\n",
        "    # This function returns the probability of a record given the ship's coordinates.\n",
        "    px = 1\n",
        "    py = 1\n",
        "    for i in range(len(rec)):\n",
        "        num = str(i+1)\n",
        "        p1,p2 = P_towerCoor_given_coor(rec[i], towers_info[num]['std'], coor)\n",
        "        px *= p1\n",
        "        py *= p2\n",
        "    return px,py\n"
      ]
    },
    {
      "cell_type": "code",
      "execution_count": null,
      "metadata": {
        "id": "pP6vR7E-uHwL"
      },
      "outputs": [],
      "source": [
        "def real_coor(time_step):\n",
        "    return round(real_coordinates.get('X')[time_step]), round(real_coordinates.get('Y')[time_step])\n",
        "\n",
        "def dist(coor_a, coor_b):\n",
        "    return round(np.sqrt((coor_a[0] - coor_b[0])**2 + (coor_a[1] - coor_b[1])**2))\n",
        "\n",
        "coor0_estimations = []\n",
        "coor1_estimations = []\n",
        "coor2_estimations = []\n",
        "coor3_estimations = []"
      ]
    },
    {
      "cell_type": "markdown",
      "metadata": {
        "id": "PTufVs-6uHwL"
      },
      "source": [
        "#### Estimating coordinates_0 from P(coor_0) and record_0"
      ]
    },
    {
      "cell_type": "markdown",
      "metadata": {
        "id": "mesh_5WHuHwL"
      },
      "source": [
        "In the cell below, you can see the approach for finding the argmax of P(coor_0 | record_0), which is equal to argmax of P(record_0 | coor_0) times P(coor_0).\n",
        "We are not using derivatives to find the argmax, we are actually doing it numerically by trying different coordinates and seeing which one provides the highest probability. <br>\n",
        "\n",
        "#### Recommended approach: You can use gradient descent to find the argmax of probability function, and that will give you 5 extra points."
      ]
    },
    {
      "cell_type": "code",
      "execution_count": null,
      "metadata": {
        "id": "nFWIeLdcuHwL"
      },
      "outputs": [],
      "source": [
        "# argmax P(coor_0 | record_0) = argmax P(record_0 | coor_0) P(coor_0)\n",
        "best_x0, best_y0 = None, None\n",
        "\n",
        "max_Px, max_Py = 0, 0\n",
        "interval, step = 20, 5\n",
        "\n",
        "towers_mean_x0, towers_mean_y0 = get_mean_towers_coor(0, tower_records)\n",
        "\n",
        "for x0 in range(int(towers_mean_x0 - interval), int(towers_mean_x0 + interval), step):\n",
        "    for y0 in range(int(towers_mean_y0 - interval), int(towers_mean_y0 + interval), step):\n",
        "        \n",
        "        coor0 = (x0, y0)\n",
        "        rec0 = tower_records[0]\n",
        "\n",
        "        P_rec0_given_x0, P_rec0_given_y0 = P_record_given_coor(rec0, coor0, towers_info)\n",
        "        p_c0 = P_coor0(coor0)\n",
        "    \n",
        "        Px = P_rec0_given_x0 * p_c0\n",
        "        Py = P_rec0_given_y0 * p_c0\n",
        "\n",
        "        if Px > max_Px:\n",
        "            best_x0 = x0\n",
        "            max_Px = Px\n",
        "\n",
        "        if Py > max_Py:\n",
        "            best_y0 = y0\n",
        "            max_Py = Py\n",
        "\n",
        "\n",
        "coor0_estimations.append((best_x0, best_y0))"
      ]
    },
    {
      "cell_type": "code",
      "execution_count": null,
      "metadata": {
        "id": "TQ4fitF-uHwL",
        "outputId": "16f5e909-2614-44d4-c2bd-1e6c88fe3562"
      },
      "outputs": [
        {
          "name": "stdout",
          "output_type": "stream",
          "text": [
            "real_coor0: (1087, -57) - Estimated_coor0: (990, -50)\n",
            "Estimation_error: 97\n"
          ]
        }
      ],
      "source": [
        "print(f'real_coor0: {real_coor(0)} - Estimated_coor0: {best_x0, best_y0}')\n",
        "print(f'Estimation_error: {dist((best_x0, best_y0), real_coor(0))}')\n",
        "Loss0 = np.zeros(4)\n",
        "Loss0[0] = dist((best_x0, best_y0), real_coor(0))"
      ]
    },
    {
      "cell_type": "markdown",
      "metadata": {
        "id": "JXhG116duHwM"
      },
      "source": [
        "#### Estimating coordinates_0 and coordinates_1 from P(coor_0), record_0, and record_1<br>"
      ]
    },
    {
      "cell_type": "code",
      "execution_count": null,
      "metadata": {
        "collectable": true,
        "id": "zST2ee1guHwM"
      },
      "outputs": [],
      "source": [
        "# argmax P(coor_0 | record_0, record_1)\n",
        "# argmax P(coor_1 | coor_0, record_0, record_1) \n",
        "\n",
        "\n",
        "max_Px, max_Py = 0, 0\n",
        "interval, step = 20, 5\n",
        "\n",
        "best_x0, best_y0 = None, None\n",
        "best_x1, best_y1 = None, None\n",
        "\n",
        "towers_mean_x1, towers_mean_y1 = get_mean_towers_coor(1, tower_records)\n",
        "\n",
        "for x0 in range(int(coor0_estimations[-1][0] - interval), int(coor0_estimations[-1][0] + interval), step):\n",
        "    for y0 in range(int(coor0_estimations[-1][1] - interval), int(coor0_estimations[-1][1] + interval), step):\n",
        "        \n",
        "         for x1 in range(int(towers_mean_x1 - interval), int(towers_mean_x1 + interval), step):\n",
        "            for y1 in range(int(towers_mean_y1 - interval), int(towers_mean_y1 + interval), step):\n",
        "                    \n",
        "                coor0 = (x0, y0)\n",
        "                coor1 = (x1, y1)\n",
        "\n",
        "                rec0 = tower_records[0]\n",
        "                rec1 = tower_records[1]\n",
        "                \n",
        "                P_rec0_given_x0, P_rec0_given_y0 = P_record_given_coor(rec0, coor0, towers_info)\n",
        "                p_c0 = P_coor0(coor0)\n",
        "                p_c1_c0_x,p_c1_c0_y = P_coor_given_prevCoor(coor1,coor0)\n",
        "                P_rec1_given_x1, P_rec1_given_y1 = P_record_given_coor(rec1, coor1, towers_info)\n",
        "                \n",
        "                Px = P_rec0_given_x0 * p_c0 * p_c1_c0_x * P_rec1_given_x1\n",
        "                Py = P_rec0_given_y0 * p_c0 * p_c1_c0_y * P_rec1_given_y1\n",
        "                # print(P_rec0_given_x0,p_c0,p_c1_c0_x,P_rec1_given_x1)\n",
        "                # print(Px,Py)\n",
        "                \n",
        "                if Px > max_Px:\n",
        "                    best_x0 = x0\n",
        "                    best_x1 = x1\n",
        "                    max_Px = Px\n",
        "\n",
        "                if Py > max_Py:\n",
        "                    best_y0 = y0\n",
        "                    best_y1 = y1\n",
        "                    max_Py = Py\n",
        "            \n",
        "coor0_estimations.append((best_x0, best_y0))\n",
        "coor1_estimations.append((best_x1, best_y1))"
      ]
    },
    {
      "cell_type": "code",
      "execution_count": null,
      "metadata": {
        "id": "0pezaQ_YuHwN",
        "outputId": "0e96db9d-d796-449d-9aa5-3439e88c2e83"
      },
      "outputs": [
        {
          "name": "stdout",
          "output_type": "stream",
          "text": [
            "real_coor0: (1087, -57) - Estimated_coor0: (1005, -50)\n",
            "Estimation_error: 82\n",
            "\n",
            "real_coor1: (1045, 72) - Estimated_coor1: (976, 70)\n",
            "Estimation_error: 69\n"
          ]
        }
      ],
      "source": [
        "print(f'real_coor0: {real_coor(0)} - Estimated_coor0: {best_x0, best_y0}')\n",
        "print(f'Estimation_error: {dist((best_x0, best_y0), real_coor(0))}')\n",
        "print()\n",
        "print(f'real_coor1: {real_coor(1)} - Estimated_coor1: {best_x1, best_y1}')\n",
        "print(f'Estimation_error: {dist((best_x1, best_y1), real_coor(1))}')\n",
        "Loss0[1] = dist((best_x0, best_y0), real_coor(0))\n",
        "Loss1 = np.zeros(3)\n",
        "Loss1[0] = dist((best_x1, best_y1), real_coor(1))\n"
      ]
    },
    {
      "cell_type": "markdown",
      "metadata": {
        "id": "Md-Bt6mHuHwN"
      },
      "source": [
        "#### Estimating coordinates_0, coordinates_1 and coordinates_2 from P(coor_0), record_0, record_1, and record_2 <br>"
      ]
    },
    {
      "cell_type": "code",
      "execution_count": null,
      "metadata": {
        "collectable": true,
        "id": "jBsKSgBQuHwN"
      },
      "outputs": [],
      "source": [
        "max_Px, max_Py = 0, 0\n",
        "interval, step = 20, 5\n",
        "\n",
        "best_x0, best_y0 = None, None\n",
        "best_x1, best_y1 = None, None       \n",
        "best_x2, best_y2 = None, None   \n",
        "\n",
        "towers_mean_x2, towers_mean_y2 = get_mean_towers_coor(2, tower_records)\n",
        "\n",
        "for x0 in range(int(coor0_estimations[-1][0] - interval), int(coor0_estimations[-1][0] + interval), step):\n",
        "    for y0 in range(int(coor0_estimations[-1][1] - interval), int(coor0_estimations[-1][1] + interval), step):\n",
        "        \n",
        "         for x1 in range(int(coor1_estimations[-1][0] - interval), int(coor1_estimations[-1][0] + interval), step):\n",
        "            for y1 in range(int(coor1_estimations[-1][1] - interval), int(coor1_estimations[-1][1] + interval), step):\n",
        "                \n",
        "                for x2 in range(int(towers_mean_x2 - interval), int(towers_mean_x2 + interval), step):\n",
        "                    for y2 in range(int(towers_mean_y2 - interval), int(towers_mean_y2 + interval), step):\n",
        "                        \n",
        "                        coor0 = (x0, y0)\n",
        "                        coor1 = (x1, y1)\n",
        "                        coor2 = (x2, y2)\n",
        "                        \n",
        "                        rec0 = tower_records[0]\n",
        "                        rec1 = tower_records[1]\n",
        "                        rec2 = tower_records[2]\n",
        "                        \n",
        "                        \n",
        "                        P_rec0_given_x0, P_rec0_given_y0 = P_record_given_coor(rec0, coor0, towers_info)\n",
        "                        p_c0 = P_coor0(coor0)\n",
        "                        p_c1_c0_x,p_c1_c0_y = P_coor_given_prevCoor(coor1,coor0)\n",
        "                        P_rec1_given_x1, P_rec1_given_y1 = P_record_given_coor(rec1, coor1, towers_info)\n",
        "                        p_c2_c1_x,p_c2_c1_y = P_coor_given_prevCoor(coor2,coor1)\n",
        "                        P_rec2_given_x2, P_rec2_given_y2 = P_record_given_coor(rec2, coor2, towers_info)\n",
        "                        \n",
        "                        Px = P_rec0_given_x0 * p_c0 * p_c1_c0_x * P_rec1_given_x1 * p_c2_c1_x * P_rec2_given_x2\n",
        "                        Py = P_rec0_given_y0 * p_c0 * p_c1_c0_y * P_rec1_given_y1 * p_c2_c1_y * P_rec2_given_y2    \n",
        "\n",
        "                        if Px > max_Px:\n",
        "                            best_x0 = x0\n",
        "                            best_x1 = x1\n",
        "                            best_x2 = x2 \n",
        "                            max_Px = Px\n",
        "\n",
        "                        if Py > max_Py:\n",
        "                            best_y0 = y0\n",
        "                            best_y1 = y1\n",
        "                            best_y2 = y2\n",
        "                            max_Py = Py \n",
        "\n",
        "coor0_estimations.append((best_x0, best_y0))\n",
        "coor1_estimations.append((best_x1, best_y1))\n",
        "coor2_estimations.append((best_x2, best_y2))"
      ]
    },
    {
      "cell_type": "code",
      "execution_count": null,
      "metadata": {
        "collectable": true,
        "id": "U_R3MNEluHwO",
        "outputId": "4052232e-4200-4eca-a3e2-f8a14d5ba8f4"
      },
      "outputs": [
        {
          "name": "stdout",
          "output_type": "stream",
          "text": [
            "real_coor0: (1087, -57) - Estimated_coor0: (1020, -50)\n",
            "Estimation_error: 67\n",
            "\n",
            "real_coor1: (1045, 72) - Estimated_coor1: (981, 70)\n",
            "Estimation_error: 64\n",
            "\n",
            "real_coor2: (967, 393) - Estimated_coor2: (977, 387)\n",
            "Estimation_error: 12\n"
          ]
        }
      ],
      "source": [
        "print(f'real_coor0: {real_coor(0)} - Estimated_coor0: {best_x0, best_y0}')\n",
        "print(f'Estimation_error: {dist((best_x0, best_y0), real_coor(0))}')\n",
        "print()\n",
        "print(f'real_coor1: {real_coor(1)} - Estimated_coor1: {best_x1, best_y1}')\n",
        "print(f'Estimation_error: {dist((best_x1, best_y1), real_coor(1))}')\n",
        "print()\n",
        "print(f'real_coor2: {real_coor(2)} - Estimated_coor2: {best_x2, best_y2}')\n",
        "print(f'Estimation_error: {dist((best_x2, best_y2), real_coor(2))}')\n",
        "\n",
        "Loss0[2] = dist((best_x0, best_y0), real_coor(0))\n",
        "Loss1[1] = dist((best_x1, best_y1), real_coor(1))\n",
        "Loss2 = np.zeros(2)\n",
        "Loss2[0] = dist((best_x2, best_y2), real_coor(2))"
      ]
    },
    {
      "cell_type": "markdown",
      "metadata": {
        "id": "m2Nc7i2duHwO"
      },
      "source": [
        "#### Estimating coordinates_0, coordinates_1, coordinates_2, and coordinates_3 from  P(coor_0), record_0, record_1, record_2, and record_3 <br>"
      ]
    },
    {
      "cell_type": "code",
      "execution_count": null,
      "metadata": {
        "collectable": true,
        "id": "fwYxjTKmuHwO"
      },
      "outputs": [],
      "source": [
        "max_Px, max_Py = 0, 0\n",
        "interval, step = 25, 5\n",
        "\n",
        "best_x0, best_y0 = None, None\n",
        "best_x1, best_y1 = None, None       \n",
        "best_x2, best_y2 = None, None  \n",
        "best_x3, best_y3 = None, None\n",
        "\n",
        "towers_mean_x3, towers_mean_y3 = get_mean_towers_coor(3, tower_records)\n",
        "\n",
        "for x0 in range(int(coor0_estimations[-1][0] - interval), int(coor0_estimations[-1][0] + interval), step):\n",
        "    for y0 in range(int(coor0_estimations[-1][1] - interval), int(coor0_estimations[-1][1] + interval), step):\n",
        "        \n",
        "         for x1 in range(int(coor1_estimations[-1][0] - interval), int(coor1_estimations[-1][0] + interval), step):\n",
        "            for y1 in range(int(coor1_estimations[-1][1] - interval), int(coor1_estimations[-1][1] + interval), step):\n",
        "                \n",
        "                 for x2 in range(int(coor2_estimations[-1][0] - interval), int(coor2_estimations[-1][0] + interval), step):\n",
        "                    for y2 in range(int(coor2_estimations[-1][1] - interval), int(coor2_estimations[-1][1] + interval), step): \n",
        "\n",
        "                        for x3 in range(int(towers_mean_x3 - interval), int(towers_mean_x3 + interval), step):\n",
        "                            for y3 in range(int(towers_mean_y3 - interval), int(towers_mean_y3 + interval), step): \n",
        "                                \n",
        "                                coor0 = (x0, y0)\n",
        "                                coor1 = (x1, y1)\n",
        "                                coor2 = (x2, y2)\n",
        "                                coor3 = (x3, y3)\n",
        "\n",
        "                                rec0 = tower_records[0]\n",
        "                                rec1 = tower_records[1]\n",
        "                                rec2 = tower_records[2]\n",
        "                                rec3 = tower_records[3]\n",
        "                                \n",
        "                                P_rec0_given_x0, P_rec0_given_y0 = P_record_given_coor(rec0, coor0, towers_info)\n",
        "                                p_c0 = P_coor0(coor0)\n",
        "                                p_c1_c0_x,p_c1_c0_y = P_coor_given_prevCoor(coor1,coor0)\n",
        "                                P_rec1_given_x1, P_rec1_given_y1 = P_record_given_coor(rec1, coor1, towers_info)\n",
        "                                p_c2_c1_x,p_c2_c1_y = P_coor_given_prevCoor(coor2,coor1)\n",
        "                                P_rec2_given_x2, P_rec2_given_y2 = P_record_given_coor(rec2, coor2, towers_info)\n",
        "                                p_c3_c2_x,p_c3_c2_y = P_coor_given_prevCoor(coor3,coor2)\n",
        "                                P_rec3_given_x3, P_rec3_given_y3 = P_record_given_coor(rec3, coor3, towers_info)\n",
        "                                \n",
        "                                Px = P_rec0_given_x0 * p_c0 * p_c1_c0_x * P_rec1_given_x1 * p_c2_c1_x * P_rec2_given_x2 * p_c3_c2_x * P_rec3_given_x3\n",
        "                                Py = P_rec0_given_y0 * p_c0 * p_c1_c0_y * P_rec1_given_y1 * p_c2_c1_y * P_rec2_given_y2 * p_c3_c2_y * P_rec3_given_y3  \n",
        "\n",
        "                                if Px > max_Px:\n",
        "                                    best_x0 = x0\n",
        "                                    best_x1 = x1\n",
        "                                    best_x2 = x2 \n",
        "                                    best_x3 = x2 \n",
        "                                    max_Px = Px\n",
        "\n",
        "                                if Py > max_Py:\n",
        "                                    best_y0 = y0\n",
        "                                    best_y1 = y1\n",
        "                                    best_y2 = y2\n",
        "                                    best_y3 = y3\n",
        "                                    max_Py = Py  \n",
        "                                    \n",
        "coor0_estimations.append((best_x0, best_y0))\n",
        "coor1_estimations.append((best_x1, best_y1))\n",
        "coor2_estimations.append((best_x2, best_y2))\n",
        "coor3_estimations.append((best_x3, best_y3))"
      ]
    },
    {
      "cell_type": "code",
      "execution_count": null,
      "metadata": {
        "collectable": true,
        "id": "at1L0VieuHwP",
        "outputId": "cade5793-cfb8-4d5a-d5a4-e3fdd9fe9d10"
      },
      "outputs": [
        {
          "name": "stdout",
          "output_type": "stream",
          "text": [
            "real_coor0: (1087, -57) - Estimated_coor0: (1025, -50)\n",
            "Estimation_error: 62\n",
            "\n",
            "real_coor1: (1045, 72) - Estimated_coor1: (981, 70)\n",
            "Estimation_error: 64\n",
            "\n",
            "real_coor2: (967, 393) - Estimated_coor2: (972, 387)\n",
            "Estimation_error: 8\n",
            "\n",
            "real_coor3: (314, 1220) - Estimated_coor3: (972, 1193)\n",
            "Estimation_error: 659\n"
          ]
        }
      ],
      "source": [
        "print(f'real_coor0: {real_coor(0)} - Estimated_coor0: {best_x0, best_y0}')\n",
        "print(f'Estimation_error: {dist((best_x0, best_y0), real_coor(0))}')\n",
        "print()\n",
        "print(f'real_coor1: {real_coor(1)} - Estimated_coor1: {best_x1, best_y1}')\n",
        "print(f'Estimation_error: {dist((best_x1, best_y1), real_coor(1))}')\n",
        "print()\n",
        "print(f'real_coor2: {real_coor(2)} - Estimated_coor2: {best_x2, best_y2}')\n",
        "print(f'Estimation_error: {dist((best_x2, best_y2), real_coor(2))}')\n",
        "print()\n",
        "print(f'real_coor3: {real_coor(3)} - Estimated_coor3: {best_x3, best_y3}')\n",
        "print(f'Estimation_error: {dist((best_x3, best_y3), real_coor(3))}')\n",
        "\n",
        "Loss0[3] = dist((best_x0, best_y0), real_coor(0))\n",
        "Loss1[2] = dist((best_x1, best_y1), real_coor(1))\n",
        "Loss2[1] = dist((best_x2, best_y2), real_coor(2))"
      ]
    },
    {
      "cell_type": "markdown",
      "metadata": {
        "id": "4Jx7eSLduHwP"
      },
      "source": [
        "As you know from the theoretical aspect, and you can see from your results, the errors of estimations decrease when you use more records and conditional probabilities."
      ]
    },
    {
      "cell_type": "markdown",
      "metadata": {
        "id": "VH2J736cuHwP"
      },
      "source": [
        "#### Plot curves that show using more records, leads to decrease of estimation error.<br>\n"
      ]
    },
    {
      "cell_type": "code",
      "execution_count": null,
      "metadata": {
        "collectable": true,
        "id": "YlExH2sSuHwP",
        "outputId": "60f062e7-f26f-4158-e7dc-ee119450660f"
      },
      "outputs": [
        {
          "data": {
            "text/plain": [
              "<matplotlib.legend.Legend at 0x1e629a06730>"
            ]
          },
          "execution_count": 30,
          "metadata": {},
          "output_type": "execute_result"
        },
        {
          "data": {
            "image/png": "[encoded data removed]",
            "text/plain": [
              "<Figure size 1080x360 with 3 Axes>"
            ]
          },
          "metadata": {
            "needs_background": "light"
          },
          "output_type": "display_data"
        }
      ],
      "source": [
        "fig, (ax1, ax2, ax3) = plt.subplots(1, 3, figsize= (15,5))\n",
        "\n",
        "ax1.plot(range(1,len(Loss0)+1), Loss0, label='Prior error')\n",
        "ax1.set_xlabel(\"Records\")\n",
        "ax1.set_ylabel(\"Estimation Error\")\n",
        "ax1.title.set_text(\"First Place\")\n",
        "ax1.legend()\n",
        "\n",
        "ax2.plot(range(1,len(Loss1)+1), Loss1, label='Prior error')\n",
        "ax2.set_xlabel(\"Records\")\n",
        "ax2.set_ylabel(\"Estimation Error\")\n",
        "ax2.title.set_text(\"Second Place\")\n",
        "ax2.legend()\n",
        "\n",
        "ax3.plot(range(1,len(Loss2)+1), Loss2, label='Prior error')\n",
        "ax3.set_xlabel(\"Records\")\n",
        "ax3.set_ylabel(\"Estimation Error\")\n",
        "ax3.title.set_text(\"Third Place\")\n",
        "ax3.legend()"
      ]
    }
  ]
}